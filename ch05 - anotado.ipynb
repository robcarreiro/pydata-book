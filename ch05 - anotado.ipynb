{
  "nbformat": 4,
  "nbformat_minor": 0,
  "metadata": {
    "kernelspec": {
      "display_name": "Python 2",
      "language": "python",
      "name": "python2"
    },
    "language_info": {
      "codemirror_mode": {
        "name": "ipython",
        "version": 2
      },
      "file_extension": ".py",
      "mimetype": "text/x-python",
      "name": "python",
      "nbconvert_exporter": "python",
      "pygments_lexer": "ipython2",
      "version": "2.7.10"
    },
    "colab": {
      "name": "ch05.ipynb",
      "provenance": []
    }
  },
  "cells": [
    {
      "cell_type": "markdown",
      "metadata": {
        "id": "1chyIwWEgxqD"
      },
      "source": [
        "# Getting started with pandas"
      ]
    },
    {
      "cell_type": "code",
      "metadata": {
        "id": "KDzoLA3lgxqG"
      },
      "source": [
        "from pandas import Series, DataFrame\n",
        "import pandas as pd"
      ],
      "execution_count": 1,
      "outputs": []
    },
    {
      "cell_type": "code",
      "metadata": {
        "id": "lByoucwxgxqM"
      },
      "source": [
        "from __future__ import division\n",
        "from numpy.random import randn\n",
        "import numpy as np\n",
        "import os\n",
        "import matplotlib.pyplot as plt\n",
        "np.random.seed(12345)\n",
        "plt.rc('figure', figsize=(10, 6))\n",
        "from pandas import Series, DataFrame\n",
        "import pandas as pd\n",
        "np.set_printoptions(precision=4)"
      ],
      "execution_count": 2,
      "outputs": []
    },
    {
      "cell_type": "code",
      "metadata": {
        "id": "hYE6gNXhgxqR"
      },
      "source": [
        "%pwd"
      ],
      "execution_count": null,
      "outputs": []
    },
    {
      "cell_type": "markdown",
      "metadata": {
        "id": "d4dnq2NggxqV"
      },
      "source": [
        "## Introduction to pandas data structures"
      ]
    },
    {
      "cell_type": "markdown",
      "metadata": {
        "id": "d3Vg89GOgxqX"
      },
      "source": [
        "### Series"
      ]
    },
    {
      "cell_type": "code",
      "metadata": {
        "id": "Xyxbrw3fgxqY"
      },
      "source": [
        "obj = Series([4, 7, -5, 3])\n",
        "obj"
      ],
      "execution_count": null,
      "outputs": []
    },
    {
      "cell_type": "code",
      "metadata": {
        "id": "Xt5E_x0Ngxqd"
      },
      "source": [
        "obj.values\n",
        "obj.index"
      ],
      "execution_count": null,
      "outputs": []
    },
    {
      "cell_type": "code",
      "metadata": {
        "id": "z0XgGN4Xgxqg"
      },
      "source": [
        "obj2 = Series([4, 7, -5, 3], index=['d', 'b', 'a', 'c'])\n",
        "obj2"
      ],
      "execution_count": null,
      "outputs": []
    },
    {
      "cell_type": "code",
      "metadata": {
        "id": "VaW0m6rJgxql"
      },
      "source": [
        "obj2.index"
      ],
      "execution_count": null,
      "outputs": []
    },
    {
      "cell_type": "code",
      "metadata": {
        "id": "bbJ9wfy4gxqq"
      },
      "source": [
        "obj2['a']"
      ],
      "execution_count": null,
      "outputs": []
    },
    {
      "cell_type": "code",
      "metadata": {
        "id": "QG-via4jgxqt"
      },
      "source": [
        "obj2['d'] = 6\n",
        "obj2[['c', 'a', 'd']]"
      ],
      "execution_count": null,
      "outputs": []
    },
    {
      "cell_type": "code",
      "metadata": {
        "id": "nTWYDMpVgxqw"
      },
      "source": [
        "obj2[obj2 > 0]"
      ],
      "execution_count": null,
      "outputs": []
    },
    {
      "cell_type": "code",
      "metadata": {
        "id": "GEwuuXs-gxq0"
      },
      "source": [
        "obj2 * 2"
      ],
      "execution_count": null,
      "outputs": []
    },
    {
      "cell_type": "code",
      "metadata": {
        "id": "BEDaz2gQgxq3"
      },
      "source": [
        "np.exp(obj2)"
      ],
      "execution_count": null,
      "outputs": []
    },
    {
      "cell_type": "code",
      "metadata": {
        "id": "XmrEw_25gxq7"
      },
      "source": [
        "'b' in obj2"
      ],
      "execution_count": null,
      "outputs": []
    },
    {
      "cell_type": "code",
      "metadata": {
        "id": "Tb9otsA8gxq_"
      },
      "source": [
        "'e' in obj2"
      ],
      "execution_count": null,
      "outputs": []
    },
    {
      "cell_type": "code",
      "metadata": {
        "id": "PqccQ6IfgxrF"
      },
      "source": [
        "sdata = {'Ohio': 35000, 'Texas': 71000, 'Oregon': 16000, 'Utah': 5000}\n",
        "obj3 = Series(sdata)\n",
        "obj3"
      ],
      "execution_count": null,
      "outputs": []
    },
    {
      "cell_type": "code",
      "metadata": {
        "id": "TNEx-bvogxrI"
      },
      "source": [
        "states = ['California', 'Ohio', 'Oregon', 'Texas']\n",
        "obj4 = Series(sdata, index=states)\n",
        "obj4"
      ],
      "execution_count": null,
      "outputs": []
    },
    {
      "cell_type": "code",
      "metadata": {
        "id": "ozV3GLJYgxrL"
      },
      "source": [
        "pd.isnull(obj4)"
      ],
      "execution_count": null,
      "outputs": []
    },
    {
      "cell_type": "code",
      "metadata": {
        "id": "s-HuqibDgxrN"
      },
      "source": [
        "pd.notnull(obj4)"
      ],
      "execution_count": null,
      "outputs": []
    },
    {
      "cell_type": "code",
      "metadata": {
        "id": "WCIYDI4DgxrQ"
      },
      "source": [
        "obj4.isnull()"
      ],
      "execution_count": null,
      "outputs": []
    },
    {
      "cell_type": "code",
      "metadata": {
        "id": "PfB-RvV9gxrU"
      },
      "source": [
        "obj3"
      ],
      "execution_count": null,
      "outputs": []
    },
    {
      "cell_type": "code",
      "metadata": {
        "id": "TNdW_BeEgxrX"
      },
      "source": [
        "obj4"
      ],
      "execution_count": null,
      "outputs": []
    },
    {
      "cell_type": "code",
      "metadata": {
        "id": "BYtBhXkEgxrZ"
      },
      "source": [
        "obj3 + obj4"
      ],
      "execution_count": null,
      "outputs": []
    },
    {
      "cell_type": "code",
      "metadata": {
        "id": "8u3Vyqjtgxrc"
      },
      "source": [
        "obj4.name = 'population'\n",
        "obj4.index.name = 'state'\n",
        "obj4"
      ],
      "execution_count": null,
      "outputs": []
    },
    {
      "cell_type": "code",
      "metadata": {
        "id": "B1Q_vZ70gxrg"
      },
      "source": [
        "obj.index = ['Bob', 'Steve', 'Jeff', 'Ryan']\n",
        "obj"
      ],
      "execution_count": null,
      "outputs": []
    },
    {
      "cell_type": "markdown",
      "metadata": {
        "id": "tt9PswJcgxrk"
      },
      "source": [
        "### DataFrame"
      ]
    },
    {
      "cell_type": "code",
      "metadata": {
        "id": "j0jFR3l8gxrl"
      },
      "source": [
        "data = {'state': ['Ohio', 'Ohio', 'Ohio', 'Nevada', 'Nevada'],\n",
        "        'year': [2000, 2001, 2002, 2001, 2002],\n",
        "        'pop': [1.5, 1.7, 3.6, 2.4, 2.9]}\n",
        "frame = DataFrame(data)"
      ],
      "execution_count": null,
      "outputs": []
    },
    {
      "cell_type": "code",
      "metadata": {
        "id": "ly0E40NEgxro"
      },
      "source": [
        "frame"
      ],
      "execution_count": null,
      "outputs": []
    },
    {
      "cell_type": "code",
      "metadata": {
        "id": "9LIpyUEhgxrr"
      },
      "source": [
        "DataFrame(data, columns=['year', 'state', 'pop'])"
      ],
      "execution_count": null,
      "outputs": []
    },
    {
      "cell_type": "code",
      "metadata": {
        "id": "UyjhBTulgxru"
      },
      "source": [
        "frame2 = DataFrame(data, columns=['year', 'state', 'pop', 'debt'],\n",
        "                   index=['one', 'two', 'three', 'four', 'five'])\n",
        "frame2"
      ],
      "execution_count": null,
      "outputs": []
    },
    {
      "cell_type": "code",
      "metadata": {
        "id": "1n6b0xYcgxrx"
      },
      "source": [
        "frame2.columns"
      ],
      "execution_count": null,
      "outputs": []
    },
    {
      "cell_type": "code",
      "metadata": {
        "id": "gd45uysygxr0"
      },
      "source": [
        "frame2['state']"
      ],
      "execution_count": null,
      "outputs": []
    },
    {
      "cell_type": "code",
      "metadata": {
        "id": "dscyGvvAgxr3"
      },
      "source": [
        "frame2.year"
      ],
      "execution_count": null,
      "outputs": []
    },
    {
      "cell_type": "code",
      "metadata": {
        "id": "aJAsCtxdgxr5"
      },
      "source": [
        "frame2.ix['three']"
      ],
      "execution_count": null,
      "outputs": []
    },
    {
      "cell_type": "code",
      "metadata": {
        "id": "Xq-z2ly8gxr8"
      },
      "source": [
        "frame2['debt'] = 16.5\n",
        "frame2"
      ],
      "execution_count": null,
      "outputs": []
    },
    {
      "cell_type": "code",
      "metadata": {
        "id": "TWQOJ6jFgxr_"
      },
      "source": [
        "frame2['debt'] = np.arange(5.)\n",
        "frame2"
      ],
      "execution_count": null,
      "outputs": []
    },
    {
      "cell_type": "code",
      "metadata": {
        "id": "G8ZeM-yrgxsC"
      },
      "source": [
        "val = Series([-1.2, -1.5, -1.7], index=['two', 'four', 'five'])\n",
        "frame2['debt'] = val\n",
        "frame2"
      ],
      "execution_count": null,
      "outputs": []
    },
    {
      "cell_type": "code",
      "metadata": {
        "id": "MrGOL6QJgxsF"
      },
      "source": [
        "frame2['eastern'] = frame2.state == 'Ohio'\n",
        "frame2"
      ],
      "execution_count": null,
      "outputs": []
    },
    {
      "cell_type": "code",
      "metadata": {
        "id": "ePPKFn3xgxsI"
      },
      "source": [
        "del frame2['eastern']\n",
        "frame2.columns"
      ],
      "execution_count": null,
      "outputs": []
    },
    {
      "cell_type": "code",
      "metadata": {
        "id": "FhGazNWZgxsL"
      },
      "source": [
        "pop = {'Nevada': {2001: 2.4, 2002: 2.9},\n",
        "       'Ohio': {2000: 1.5, 2001: 1.7, 2002: 3.6}}"
      ],
      "execution_count": null,
      "outputs": []
    },
    {
      "cell_type": "code",
      "metadata": {
        "id": "53rcByFagxsQ"
      },
      "source": [
        "frame3 = DataFrame(pop)\n",
        "frame3"
      ],
      "execution_count": null,
      "outputs": []
    },
    {
      "cell_type": "code",
      "metadata": {
        "id": "zg14igIqgxsV"
      },
      "source": [
        "frame3.T"
      ],
      "execution_count": null,
      "outputs": []
    },
    {
      "cell_type": "code",
      "metadata": {
        "id": "LFp7jIaYgxsY"
      },
      "source": [
        "DataFrame(pop, index=[2001, 2002, 2003])"
      ],
      "execution_count": null,
      "outputs": []
    },
    {
      "cell_type": "code",
      "metadata": {
        "id": "xo7zFaSogxsc"
      },
      "source": [
        "pdata = {'Ohio': frame3['Ohio'][:-1],\n",
        "         'Nevada': frame3['Nevada'][:2]}\n",
        "DataFrame(pdata)"
      ],
      "execution_count": null,
      "outputs": []
    },
    {
      "cell_type": "code",
      "metadata": {
        "id": "RTSBh9UWgxsf"
      },
      "source": [
        "frame3.index.name = 'year'; frame3.columns.name = 'state'\n",
        "frame3"
      ],
      "execution_count": null,
      "outputs": []
    },
    {
      "cell_type": "code",
      "metadata": {
        "id": "TVJdeQ4Jgxsk"
      },
      "source": [
        "frame3.values"
      ],
      "execution_count": null,
      "outputs": []
    },
    {
      "cell_type": "code",
      "metadata": {
        "id": "srSV71oggxsp"
      },
      "source": [
        "frame2.values"
      ],
      "execution_count": null,
      "outputs": []
    },
    {
      "cell_type": "markdown",
      "metadata": {
        "id": "K0JVxsu2gxst"
      },
      "source": [
        "### Index objects"
      ]
    },
    {
      "cell_type": "code",
      "metadata": {
        "id": "f1y02PPSgxst"
      },
      "source": [
        "obj = Series(range(3), index=['a', 'b', 'c'])\n",
        "index = obj.index\n",
        "index"
      ],
      "execution_count": null,
      "outputs": []
    },
    {
      "cell_type": "code",
      "metadata": {
        "id": "EKDX1A3hgxsw"
      },
      "source": [
        "index[1:]"
      ],
      "execution_count": null,
      "outputs": []
    },
    {
      "cell_type": "code",
      "metadata": {
        "id": "76zyOOW0gxsz"
      },
      "source": [
        "index[1] = 'd'"
      ],
      "execution_count": null,
      "outputs": []
    },
    {
      "cell_type": "code",
      "metadata": {
        "id": "92Z9RyF7gxs1"
      },
      "source": [
        "index = pd.Index(np.arange(3))\n",
        "obj2 = Series([1.5, -2.5, 0], index=index)\n",
        "obj2.index is index"
      ],
      "execution_count": null,
      "outputs": []
    },
    {
      "cell_type": "code",
      "metadata": {
        "id": "StMVCO2-gxs5"
      },
      "source": [
        "frame3"
      ],
      "execution_count": null,
      "outputs": []
    },
    {
      "cell_type": "code",
      "metadata": {
        "id": "byi87mTygxs-"
      },
      "source": [
        "'Ohio' in frame3.columns"
      ],
      "execution_count": null,
      "outputs": []
    },
    {
      "cell_type": "code",
      "metadata": {
        "id": "GIk7nCCsgxtF"
      },
      "source": [
        "2003 in frame3.index"
      ],
      "execution_count": null,
      "outputs": []
    },
    {
      "cell_type": "markdown",
      "metadata": {
        "id": "V65qACTFgxtI"
      },
      "source": [
        "## Essential functionality"
      ]
    },
    {
      "cell_type": "markdown",
      "metadata": {
        "id": "Vj4Lj97MgxtJ"
      },
      "source": [
        "### Reindexing"
      ]
    },
    {
      "cell_type": "code",
      "metadata": {
        "id": "4pyOdy-ggxtM"
      },
      "source": [
        "obj = Series([4.5, 7.2, -5.3, 3.6], index=['d', 'b', 'a', 'c'])\n",
        "obj"
      ],
      "execution_count": null,
      "outputs": []
    },
    {
      "cell_type": "code",
      "metadata": {
        "id": "yKXXY2HagxtQ"
      },
      "source": [
        "obj2 = obj.reindex(['a', 'b', 'c', 'd', 'e'])\n",
        "obj2"
      ],
      "execution_count": null,
      "outputs": []
    },
    {
      "cell_type": "code",
      "metadata": {
        "id": "8Ae5HNMxgxtT"
      },
      "source": [
        "obj.reindex(['a', 'b', 'c', 'd', 'e'], fill_value=0)"
      ],
      "execution_count": null,
      "outputs": []
    },
    {
      "cell_type": "code",
      "metadata": {
        "id": "fEnZWqTQgxtX"
      },
      "source": [
        "obj3 = Series(['blue', 'purple', 'yellow'], index=[0, 2, 4])\n",
        "obj3.reindex(range(6), method='ffill')"
      ],
      "execution_count": null,
      "outputs": []
    },
    {
      "cell_type": "code",
      "metadata": {
        "id": "1Ya9GdbQgxta"
      },
      "source": [
        "frame = DataFrame(np.arange(9).reshape((3, 3)), index=['a', 'c', 'd'],\n",
        "                  columns=['Ohio', 'Texas', 'California'])\n",
        "frame"
      ],
      "execution_count": null,
      "outputs": []
    },
    {
      "cell_type": "code",
      "metadata": {
        "id": "TVE9wEIIgxtd"
      },
      "source": [
        "frame2 = frame.reindex(['a', 'b', 'c', 'd'])\n",
        "frame2"
      ],
      "execution_count": null,
      "outputs": []
    },
    {
      "cell_type": "code",
      "metadata": {
        "id": "xRRqA91bgxth"
      },
      "source": [
        "states = ['Texas', 'Utah', 'California']\n",
        "frame.reindex(columns=states)"
      ],
      "execution_count": null,
      "outputs": []
    },
    {
      "cell_type": "code",
      "metadata": {
        "id": "T8YLNh-jgxtm"
      },
      "source": [
        "frame.reindex(index=['a', 'b', 'c', 'd'], method='ffill',\n",
        "              columns=states)"
      ],
      "execution_count": null,
      "outputs": []
    },
    {
      "cell_type": "code",
      "metadata": {
        "id": "lMn91ysOgxtp"
      },
      "source": [
        "frame.ix[['a', 'b', 'c', 'd'], states]"
      ],
      "execution_count": null,
      "outputs": []
    },
    {
      "cell_type": "markdown",
      "metadata": {
        "id": "M7iOr7aqgxtv"
      },
      "source": [
        "### Dropping entries from an axis"
      ]
    },
    {
      "cell_type": "code",
      "metadata": {
        "id": "aAwAhdLJgxtv"
      },
      "source": [
        "obj = Series(np.arange(5.), index=['a', 'b', 'c', 'd', 'e'])\n",
        "new_obj = obj.drop('c')\n",
        "new_obj"
      ],
      "execution_count": null,
      "outputs": []
    },
    {
      "cell_type": "code",
      "metadata": {
        "id": "t0Qs6pk9gxtx"
      },
      "source": [
        "obj.drop(['d', 'c'])"
      ],
      "execution_count": null,
      "outputs": []
    },
    {
      "cell_type": "code",
      "metadata": {
        "id": "9WLX65Qpgxtz"
      },
      "source": [
        "data = DataFrame(np.arange(16).reshape((4, 4)),\n",
        "                 index=['Ohio', 'Colorado', 'Utah', 'New York'],\n",
        "                 columns=['one', 'two', 'three', 'four'])"
      ],
      "execution_count": null,
      "outputs": []
    },
    {
      "cell_type": "code",
      "metadata": {
        "id": "wvN_HmHZgxt1"
      },
      "source": [
        "data.drop(['Colorado', 'Ohio'])"
      ],
      "execution_count": null,
      "outputs": []
    },
    {
      "cell_type": "code",
      "metadata": {
        "id": "ATXpr5WVgxt3"
      },
      "source": [
        "data.drop('two', axis=1)"
      ],
      "execution_count": null,
      "outputs": []
    },
    {
      "cell_type": "code",
      "metadata": {
        "id": "Slkt6OHjgxt8"
      },
      "source": [
        "data.drop(['two', 'four'], axis=1)"
      ],
      "execution_count": null,
      "outputs": []
    },
    {
      "cell_type": "markdown",
      "metadata": {
        "id": "sGdvJbzwgxt-"
      },
      "source": [
        "### Indexing, selection, and filtering"
      ]
    },
    {
      "cell_type": "code",
      "metadata": {
        "id": "nKIWrD1Tgxt_"
      },
      "source": [
        "obj = Series(np.arange(4.), index=['a', 'b', 'c', 'd'])\n",
        "obj['b']"
      ],
      "execution_count": null,
      "outputs": []
    },
    {
      "cell_type": "code",
      "metadata": {
        "id": "JdTmYCzwgxuD"
      },
      "source": [
        "obj[1]"
      ],
      "execution_count": null,
      "outputs": []
    },
    {
      "cell_type": "code",
      "metadata": {
        "id": "4SIBWcOdgxuF"
      },
      "source": [
        "obj[2:4]"
      ],
      "execution_count": null,
      "outputs": []
    },
    {
      "cell_type": "code",
      "metadata": {
        "id": "Yl8QcUqkgxuJ"
      },
      "source": [
        "obj[['b', 'a', 'd']]"
      ],
      "execution_count": null,
      "outputs": []
    },
    {
      "cell_type": "code",
      "metadata": {
        "id": "IEjrnUndgxuL"
      },
      "source": [
        "obj[[1, 3]]"
      ],
      "execution_count": null,
      "outputs": []
    },
    {
      "cell_type": "code",
      "metadata": {
        "id": "SRHU515FgxuO"
      },
      "source": [
        "obj[obj < 2]"
      ],
      "execution_count": null,
      "outputs": []
    },
    {
      "cell_type": "code",
      "metadata": {
        "id": "drHTWI9ZgxuR"
      },
      "source": [
        "obj['b':'c']"
      ],
      "execution_count": null,
      "outputs": []
    },
    {
      "cell_type": "code",
      "metadata": {
        "id": "tEPAP1wFgxuT"
      },
      "source": [
        "obj['b':'c'] = 5\n",
        "obj"
      ],
      "execution_count": null,
      "outputs": []
    },
    {
      "cell_type": "code",
      "metadata": {
        "id": "2n-pcQVAgxuU"
      },
      "source": [
        "data = DataFrame(np.arange(16).reshape((4, 4)),\n",
        "                 index=['Ohio', 'Colorado', 'Utah', 'New York'],\n",
        "                 columns=['one', 'two', 'three', 'four'])\n",
        "data"
      ],
      "execution_count": null,
      "outputs": []
    },
    {
      "cell_type": "code",
      "metadata": {
        "id": "owCIf7qegxuX"
      },
      "source": [
        "data['two']"
      ],
      "execution_count": null,
      "outputs": []
    },
    {
      "cell_type": "code",
      "metadata": {
        "id": "B07fu8M4gxuZ"
      },
      "source": [
        "data[['three', 'one']]"
      ],
      "execution_count": null,
      "outputs": []
    },
    {
      "cell_type": "code",
      "metadata": {
        "id": "VYVuJXFxgxub"
      },
      "source": [
        "data[:2]"
      ],
      "execution_count": null,
      "outputs": []
    },
    {
      "cell_type": "code",
      "metadata": {
        "id": "UStJga4Sgxud"
      },
      "source": [
        "data[data['three'] > 5]"
      ],
      "execution_count": null,
      "outputs": []
    },
    {
      "cell_type": "code",
      "metadata": {
        "id": "4cxhmbOygxug"
      },
      "source": [
        "data < 5"
      ],
      "execution_count": null,
      "outputs": []
    },
    {
      "cell_type": "code",
      "metadata": {
        "id": "3j-1Qfh-gxuk"
      },
      "source": [
        "data[data < 5] = 0"
      ],
      "execution_count": null,
      "outputs": []
    },
    {
      "cell_type": "code",
      "metadata": {
        "id": "HdIDrotagxum"
      },
      "source": [
        "data"
      ],
      "execution_count": null,
      "outputs": []
    },
    {
      "cell_type": "code",
      "metadata": {
        "id": "HqzB_8JRgxuo"
      },
      "source": [
        "data.ix['Colorado', ['two', 'three']]"
      ],
      "execution_count": null,
      "outputs": []
    },
    {
      "cell_type": "code",
      "metadata": {
        "id": "34gbzNdegxuq"
      },
      "source": [
        "data.ix[['Colorado', 'Utah'], [3, 0, 1]]"
      ],
      "execution_count": null,
      "outputs": []
    },
    {
      "cell_type": "code",
      "metadata": {
        "id": "cLEH5DpBgxus"
      },
      "source": [
        "data.ix[2]"
      ],
      "execution_count": null,
      "outputs": []
    },
    {
      "cell_type": "code",
      "metadata": {
        "id": "OtMLEvYfgxuu"
      },
      "source": [
        "data.ix[:'Utah', 'two']"
      ],
      "execution_count": null,
      "outputs": []
    },
    {
      "cell_type": "code",
      "metadata": {
        "id": "ayOaHyvjgxuw"
      },
      "source": [
        "data.ix[data.three > 5, :3]"
      ],
      "execution_count": null,
      "outputs": []
    },
    {
      "cell_type": "markdown",
      "metadata": {
        "id": "UE6ipN-Igxuy"
      },
      "source": [
        "### Arithmetic and data alignment"
      ]
    },
    {
      "cell_type": "code",
      "metadata": {
        "id": "6C3ACYLqgxuy"
      },
      "source": [
        "s1 = Series([7.3, -2.5, 3.4, 1.5], index=['a', 'c', 'd', 'e'])\n",
        "s2 = Series([-2.1, 3.6, -1.5, 4, 3.1], index=['a', 'c', 'e', 'f', 'g'])"
      ],
      "execution_count": null,
      "outputs": []
    },
    {
      "cell_type": "code",
      "metadata": {
        "id": "Mv1Q2W2qgxu0"
      },
      "source": [
        "s1"
      ],
      "execution_count": null,
      "outputs": []
    },
    {
      "cell_type": "code",
      "metadata": {
        "id": "SufqSSwxgxu2"
      },
      "source": [
        "s2"
      ],
      "execution_count": null,
      "outputs": []
    },
    {
      "cell_type": "code",
      "metadata": {
        "id": "J62lHQhegxu4"
      },
      "source": [
        "s1 + s2"
      ],
      "execution_count": null,
      "outputs": []
    },
    {
      "cell_type": "code",
      "metadata": {
        "id": "JLK4VgUGgxu6"
      },
      "source": [
        "df1 = DataFrame(np.arange(9.).reshape((3, 3)), columns=list('bcd'),\n",
        "                index=['Ohio', 'Texas', 'Colorado'])\n",
        "df2 = DataFrame(np.arange(12.).reshape((4, 3)), columns=list('bde'),\n",
        "                index=['Utah', 'Ohio', 'Texas', 'Oregon'])\n",
        "df1"
      ],
      "execution_count": null,
      "outputs": []
    },
    {
      "cell_type": "code",
      "metadata": {
        "id": "q__x1-SQgxu7"
      },
      "source": [
        "df2"
      ],
      "execution_count": null,
      "outputs": []
    },
    {
      "cell_type": "code",
      "metadata": {
        "id": "uEj-lnQFgxu-"
      },
      "source": [
        "df1 + df2"
      ],
      "execution_count": null,
      "outputs": []
    },
    {
      "cell_type": "markdown",
      "metadata": {
        "id": "3J9A7TizgxvD"
      },
      "source": [
        "#### Arithmetic methods with fill values"
      ]
    },
    {
      "cell_type": "code",
      "metadata": {
        "id": "inqCNvKzgxvD"
      },
      "source": [
        "df1 = DataFrame(np.arange(12.).reshape((3, 4)), columns=list('abcd'))\n",
        "df2 = DataFrame(np.arange(20.).reshape((4, 5)), columns=list('abcde'))\n",
        "df1"
      ],
      "execution_count": null,
      "outputs": []
    },
    {
      "cell_type": "code",
      "metadata": {
        "id": "ROeOBnfhgxvI"
      },
      "source": [
        "df2"
      ],
      "execution_count": null,
      "outputs": []
    },
    {
      "cell_type": "code",
      "metadata": {
        "id": "g6OrgJaDgxvK"
      },
      "source": [
        "df1 + df2"
      ],
      "execution_count": null,
      "outputs": []
    },
    {
      "cell_type": "code",
      "metadata": {
        "id": "Nk-ccefygxvM"
      },
      "source": [
        "df1.add(df2, fill_value=0)"
      ],
      "execution_count": null,
      "outputs": []
    },
    {
      "cell_type": "code",
      "metadata": {
        "id": "OCc1L0fBgxvO"
      },
      "source": [
        "df1.reindex(columns=df2.columns, fill_value=0)"
      ],
      "execution_count": null,
      "outputs": []
    },
    {
      "cell_type": "markdown",
      "metadata": {
        "id": "d7qQkHX4gxvQ"
      },
      "source": [
        "#### Operations between DataFrame and Series"
      ]
    },
    {
      "cell_type": "code",
      "metadata": {
        "id": "dq76lIOvgxvQ"
      },
      "source": [
        "arr = np.arange(12.).reshape((3, 4))\n",
        "arr"
      ],
      "execution_count": null,
      "outputs": []
    },
    {
      "cell_type": "code",
      "metadata": {
        "id": "BP8GwMbggxvS"
      },
      "source": [
        "arr[0]"
      ],
      "execution_count": null,
      "outputs": []
    },
    {
      "cell_type": "code",
      "metadata": {
        "id": "f1cq3z5-gxvU"
      },
      "source": [
        "arr - arr[0]"
      ],
      "execution_count": null,
      "outputs": []
    },
    {
      "cell_type": "code",
      "metadata": {
        "id": "FQvUGUpzgxvW"
      },
      "source": [
        "frame = DataFrame(np.arange(12.).reshape((4, 3)), columns=list('bde'),\n",
        "                  index=['Utah', 'Ohio', 'Texas', 'Oregon'])\n",
        "series = frame.ix[0]\n",
        "frame"
      ],
      "execution_count": null,
      "outputs": []
    },
    {
      "cell_type": "code",
      "metadata": {
        "id": "N629FmOwgxvY"
      },
      "source": [
        "series"
      ],
      "execution_count": null,
      "outputs": []
    },
    {
      "cell_type": "code",
      "metadata": {
        "id": "A_4rKb9wgxvZ"
      },
      "source": [
        "frame - series"
      ],
      "execution_count": null,
      "outputs": []
    },
    {
      "cell_type": "code",
      "metadata": {
        "id": "QF5nsvsWgxvb"
      },
      "source": [
        "series2 = Series(range(3), index=['b', 'e', 'f'])\n",
        "frame + series2"
      ],
      "execution_count": null,
      "outputs": []
    },
    {
      "cell_type": "code",
      "metadata": {
        "id": "3Wx0ZsnLgxvf"
      },
      "source": [
        "series3 = frame['d']\n",
        "frame"
      ],
      "execution_count": null,
      "outputs": []
    },
    {
      "cell_type": "code",
      "metadata": {
        "id": "yA3dqXiOgxvg"
      },
      "source": [
        "series3"
      ],
      "execution_count": null,
      "outputs": []
    },
    {
      "cell_type": "code",
      "metadata": {
        "id": "ZvKrNKMFgxvi"
      },
      "source": [
        "frame.sub(series3, axis=0)"
      ],
      "execution_count": null,
      "outputs": []
    },
    {
      "cell_type": "markdown",
      "metadata": {
        "id": "0Hb09I2Ygxvk"
      },
      "source": [
        "### Function application and mapping"
      ]
    },
    {
      "cell_type": "code",
      "metadata": {
        "id": "89wkFDxegxvk"
      },
      "source": [
        "frame = DataFrame(np.random.randn(4, 3), columns=list('bde'),\n",
        "                  index=['Utah', 'Ohio', 'Texas', 'Oregon'])"
      ],
      "execution_count": null,
      "outputs": []
    },
    {
      "cell_type": "code",
      "metadata": {
        "id": "YfGSt0n7gxvo"
      },
      "source": [
        "frame"
      ],
      "execution_count": null,
      "outputs": []
    },
    {
      "cell_type": "code",
      "metadata": {
        "id": "SrjM8ZAggxvq"
      },
      "source": [
        "np.abs(frame)"
      ],
      "execution_count": null,
      "outputs": []
    },
    {
      "cell_type": "code",
      "metadata": {
        "id": "1g6GZn5ygxvr"
      },
      "source": [
        "f = lambda x: x.max() - x.min()"
      ],
      "execution_count": null,
      "outputs": []
    },
    {
      "cell_type": "code",
      "metadata": {
        "id": "cMR2aac_gxvt"
      },
      "source": [
        "frame.apply(f)"
      ],
      "execution_count": null,
      "outputs": []
    },
    {
      "cell_type": "code",
      "metadata": {
        "id": "wrOO8d-fgxvu"
      },
      "source": [
        "frame.apply(f, axis=1)"
      ],
      "execution_count": null,
      "outputs": []
    },
    {
      "cell_type": "code",
      "metadata": {
        "id": "nX-itYmMgxvv"
      },
      "source": [
        "def f(x):\n",
        "    return Series([x.min(), x.max()], index=['min', 'max'])\n",
        "frame.apply(f)"
      ],
      "execution_count": null,
      "outputs": []
    },
    {
      "cell_type": "code",
      "metadata": {
        "id": "F3N4YaNagxvx"
      },
      "source": [
        "format = lambda x: '%.2f' % x\n",
        "frame.applymap(format)"
      ],
      "execution_count": null,
      "outputs": []
    },
    {
      "cell_type": "code",
      "metadata": {
        "id": "tEHjgh-Bgxvy"
      },
      "source": [
        "frame['e'].map(format)"
      ],
      "execution_count": null,
      "outputs": []
    },
    {
      "cell_type": "markdown",
      "metadata": {
        "id": "0UkWeeWLgxvz"
      },
      "source": [
        "### Sorting and ranking"
      ]
    },
    {
      "cell_type": "code",
      "metadata": {
        "id": "_Yq7dCCDgxvz"
      },
      "source": [
        "obj = Series(range(4), index=['d', 'a', 'b', 'c'])\n",
        "obj.sort_index()"
      ],
      "execution_count": null,
      "outputs": []
    },
    {
      "cell_type": "code",
      "metadata": {
        "id": "_0OZ5zO1gxv0"
      },
      "source": [
        "frame = DataFrame(np.arange(8).reshape((2, 4)), index=['three', 'one'],\n",
        "                  columns=['d', 'a', 'b', 'c'])\n",
        "frame.sort_index()"
      ],
      "execution_count": null,
      "outputs": []
    },
    {
      "cell_type": "code",
      "metadata": {
        "id": "MgCumDHkgxv3"
      },
      "source": [
        "frame.sort_index(axis=1)"
      ],
      "execution_count": null,
      "outputs": []
    },
    {
      "cell_type": "code",
      "metadata": {
        "id": "7UiEwGckgxv4"
      },
      "source": [
        "frame.sort_index(axis=1, ascending=False)"
      ],
      "execution_count": null,
      "outputs": []
    },
    {
      "cell_type": "code",
      "metadata": {
        "id": "UVbNQjRvgxv9"
      },
      "source": [
        "obj = Series([4, 7, -3, 2])\n",
        "obj.order()"
      ],
      "execution_count": null,
      "outputs": []
    },
    {
      "cell_type": "code",
      "metadata": {
        "id": "C4Ck5vuKgxwC"
      },
      "source": [
        "obj = Series([4, np.nan, 7, np.nan, -3, 2])\n",
        "obj.order()"
      ],
      "execution_count": null,
      "outputs": []
    },
    {
      "cell_type": "code",
      "metadata": {
        "id": "S7SKmpj4gxwD"
      },
      "source": [
        "frame = DataFrame({'b': [4, 7, -3, 2], 'a': [0, 1, 0, 1]})\n",
        "frame"
      ],
      "execution_count": null,
      "outputs": []
    },
    {
      "cell_type": "code",
      "metadata": {
        "id": "XDhLchj0gxwG"
      },
      "source": [
        "frame.sort_index(by='b')"
      ],
      "execution_count": null,
      "outputs": []
    },
    {
      "cell_type": "code",
      "metadata": {
        "id": "Vj44-e2xgxwI"
      },
      "source": [
        "frame.sort_index(by=['a', 'b'])"
      ],
      "execution_count": null,
      "outputs": []
    },
    {
      "cell_type": "code",
      "metadata": {
        "id": "FkcN4cNJgxwJ"
      },
      "source": [
        "obj = Series([7, -5, 7, 4, 2, 0, 4])\n",
        "obj.rank()"
      ],
      "execution_count": null,
      "outputs": []
    },
    {
      "cell_type": "code",
      "metadata": {
        "id": "S-5ysWKzgxwO"
      },
      "source": [
        "obj.rank(method='first')"
      ],
      "execution_count": null,
      "outputs": []
    },
    {
      "cell_type": "code",
      "metadata": {
        "id": "h5dTNrr8gxwP"
      },
      "source": [
        "obj.rank(ascending=False, method='max')"
      ],
      "execution_count": null,
      "outputs": []
    },
    {
      "cell_type": "code",
      "metadata": {
        "id": "-yl_clt0gxwR"
      },
      "source": [
        "frame = DataFrame({'b': [4.3, 7, -3, 2], 'a': [0, 1, 0, 1],\n",
        "                   'c': [-2, 5, 8, -2.5]})\n",
        "frame"
      ],
      "execution_count": null,
      "outputs": []
    },
    {
      "cell_type": "code",
      "metadata": {
        "id": "VZC7sBVBgxwS"
      },
      "source": [
        "frame.rank(axis=1)"
      ],
      "execution_count": null,
      "outputs": []
    },
    {
      "cell_type": "markdown",
      "metadata": {
        "id": "7z958sySgxwW"
      },
      "source": [
        "### Axis indexes with duplicate values"
      ]
    },
    {
      "cell_type": "code",
      "metadata": {
        "id": "h5lBNG_vgxwW"
      },
      "source": [
        "obj = Series(range(5), index=['a', 'a', 'b', 'b', 'c'])\n",
        "obj"
      ],
      "execution_count": null,
      "outputs": []
    },
    {
      "cell_type": "code",
      "metadata": {
        "id": "o8-gqnuRgxwZ"
      },
      "source": [
        "obj.index.is_unique"
      ],
      "execution_count": null,
      "outputs": []
    },
    {
      "cell_type": "code",
      "metadata": {
        "id": "olar2AHEgxwf"
      },
      "source": [
        "obj['a']"
      ],
      "execution_count": null,
      "outputs": []
    },
    {
      "cell_type": "code",
      "metadata": {
        "id": "-zvQpF0pgxwi"
      },
      "source": [
        "obj['c']"
      ],
      "execution_count": null,
      "outputs": []
    },
    {
      "cell_type": "code",
      "metadata": {
        "id": "0OgJmGYagxwl"
      },
      "source": [
        "df = DataFrame(np.random.randn(4, 3), index=['a', 'a', 'b', 'b'])\n",
        "df"
      ],
      "execution_count": null,
      "outputs": []
    },
    {
      "cell_type": "code",
      "metadata": {
        "id": "qcegVv6Vgxwn"
      },
      "source": [
        "df.ix['b']"
      ],
      "execution_count": null,
      "outputs": []
    },
    {
      "cell_type": "markdown",
      "metadata": {
        "id": "XjDtaqoCgxwp"
      },
      "source": [
        "## Summarizing and computing descriptive statistics"
      ]
    },
    {
      "cell_type": "code",
      "metadata": {
        "id": "v7wLj1hWgxwq"
      },
      "source": [
        "df = DataFrame([[1.4, np.nan], [7.1, -4.5],\n",
        "                [np.nan, np.nan], [0.75, -1.3]],\n",
        "               index=['a', 'b', 'c', 'd'],\n",
        "               columns=['one', 'two'])\n",
        "df"
      ],
      "execution_count": null,
      "outputs": []
    },
    {
      "cell_type": "code",
      "metadata": {
        "id": "5v1v36Ftgxwr"
      },
      "source": [
        "df.sum()"
      ],
      "execution_count": null,
      "outputs": []
    },
    {
      "cell_type": "code",
      "metadata": {
        "id": "4EMbn-I8gxws"
      },
      "source": [
        "df.sum(axis=1)"
      ],
      "execution_count": null,
      "outputs": []
    },
    {
      "cell_type": "code",
      "metadata": {
        "id": "6oY5NJPagxwt"
      },
      "source": [
        "df.mean(axis=1, skipna=False)"
      ],
      "execution_count": null,
      "outputs": []
    },
    {
      "cell_type": "code",
      "metadata": {
        "id": "M-xYZfjlgxww"
      },
      "source": [
        "df.idxmax()"
      ],
      "execution_count": null,
      "outputs": []
    },
    {
      "cell_type": "code",
      "metadata": {
        "id": "aYD4zvfDgxwy"
      },
      "source": [
        "df.cumsum()"
      ],
      "execution_count": null,
      "outputs": []
    },
    {
      "cell_type": "code",
      "metadata": {
        "id": "0qY3IKGogxw0"
      },
      "source": [
        "df.describe()"
      ],
      "execution_count": null,
      "outputs": []
    },
    {
      "cell_type": "code",
      "metadata": {
        "id": "Unn-bw3tgxw3"
      },
      "source": [
        "obj = Series(['a', 'a', 'b', 'c'] * 4)\n",
        "obj.describe()"
      ],
      "execution_count": null,
      "outputs": []
    },
    {
      "cell_type": "markdown",
      "metadata": {
        "id": "anvBUlwDgxw6"
      },
      "source": [
        "### Correlation and covariance"
      ]
    },
    {
      "cell_type": "code",
      "metadata": {
        "id": "HO_tRw1Xgxw6"
      },
      "source": [
        "import pandas_datareader.data as web\n",
        "\n",
        "all_data = {}\n",
        "for ticker in ['AAPL', 'IBM', 'MSFT', 'GOOG']:\n",
        "    all_data[ticker] = web.get_data_yahoo(ticker)\n",
        "\n",
        "price = DataFrame({tic: data['Adj Close']\n",
        "                   for tic, data in all_data.iteritems()})\n",
        "volume = DataFrame({tic: data['Volume']\n",
        "                    for tic, data in all_data.iteritems()})"
      ],
      "execution_count": 6,
      "outputs": []
    },
    {
      "cell_type": "code",
      "metadata": {
        "id": "lPgghnZygxw7",
        "outputId": "d78ffa6d-f5d4-45b1-c521-059d6906cb53",
        "colab": {
          "base_uri": "https://localhost:8080/",
          "height": 220
        }
      },
      "source": [
        "returns = price.pct_change()\n",
        "returns.tail()"
      ],
      "execution_count": 7,
      "outputs": [
        {
          "output_type": "execute_result",
          "data": {
            "text/plain": [
              "                AAPL      GOOG       IBM      MSFT\n",
              "Date                                              \n",
              "2020-10-29  0.037050  0.033377  0.021191  0.010065\n",
              "2020-10-30 -0.056018  0.034309  0.025250 -0.010991\n",
              "2020-11-02 -0.000827  0.003097  0.011195 -0.000691\n",
              "2020-11-03  0.015354  0.014871  0.011071  0.020264\n",
              "2020-11-04  0.040837  0.059944 -0.019797  0.048249"
            ],
            "text/html": [
              "<div>\n",
              "<style scoped>\n",
              "    .dataframe tbody tr th:only-of-type {\n",
              "        vertical-align: middle;\n",
              "    }\n",
              "\n",
              "    .dataframe tbody tr th {\n",
              "        vertical-align: top;\n",
              "    }\n",
              "\n",
              "    .dataframe thead th {\n",
              "        text-align: right;\n",
              "    }\n",
              "</style>\n",
              "<table border=\"1\" class=\"dataframe\">\n",
              "  <thead>\n",
              "    <tr style=\"text-align: right;\">\n",
              "      <th></th>\n",
              "      <th>AAPL</th>\n",
              "      <th>GOOG</th>\n",
              "      <th>IBM</th>\n",
              "      <th>MSFT</th>\n",
              "    </tr>\n",
              "    <tr>\n",
              "      <th>Date</th>\n",
              "      <th></th>\n",
              "      <th></th>\n",
              "      <th></th>\n",
              "      <th></th>\n",
              "    </tr>\n",
              "  </thead>\n",
              "  <tbody>\n",
              "    <tr>\n",
              "      <th>2020-10-29</th>\n",
              "      <td>0.037050</td>\n",
              "      <td>0.033377</td>\n",
              "      <td>0.021191</td>\n",
              "      <td>0.010065</td>\n",
              "    </tr>\n",
              "    <tr>\n",
              "      <th>2020-10-30</th>\n",
              "      <td>-0.056018</td>\n",
              "      <td>0.034309</td>\n",
              "      <td>0.025250</td>\n",
              "      <td>-0.010991</td>\n",
              "    </tr>\n",
              "    <tr>\n",
              "      <th>2020-11-02</th>\n",
              "      <td>-0.000827</td>\n",
              "      <td>0.003097</td>\n",
              "      <td>0.011195</td>\n",
              "      <td>-0.000691</td>\n",
              "    </tr>\n",
              "    <tr>\n",
              "      <th>2020-11-03</th>\n",
              "      <td>0.015354</td>\n",
              "      <td>0.014871</td>\n",
              "      <td>0.011071</td>\n",
              "      <td>0.020264</td>\n",
              "    </tr>\n",
              "    <tr>\n",
              "      <th>2020-11-04</th>\n",
              "      <td>0.040837</td>\n",
              "      <td>0.059944</td>\n",
              "      <td>-0.019797</td>\n",
              "      <td>0.048249</td>\n",
              "    </tr>\n",
              "  </tbody>\n",
              "</table>\n",
              "</div>"
            ]
          },
          "metadata": {
            "tags": []
          },
          "execution_count": 7
        }
      ]
    },
    {
      "cell_type": "code",
      "metadata": {
        "id": "xrAWVsTygxw_",
        "outputId": "e0047759-10ec-4054-ff74-c0a7e665b862",
        "colab": {
          "base_uri": "https://localhost:8080/"
        }
      },
      "source": [
        "returns.MSFT.corr(returns.IBM)"
      ],
      "execution_count": 8,
      "outputs": [
        {
          "output_type": "execute_result",
          "data": {
            "text/plain": [
              "0.539896227269919"
            ]
          },
          "metadata": {
            "tags": []
          },
          "execution_count": 8
        }
      ]
    },
    {
      "cell_type": "code",
      "metadata": {
        "id": "LJnGSzP1gxxA",
        "outputId": "ea93c4a5-99c0-49a1-d741-b22c4fe6c952",
        "colab": {
          "base_uri": "https://localhost:8080/"
        }
      },
      "source": [
        "returns.MSFT.cov(returns.IBM)"
      ],
      "execution_count": 9,
      "outputs": [
        {
          "output_type": "execute_result",
          "data": {
            "text/plain": [
              "0.00012192365658594411"
            ]
          },
          "metadata": {
            "tags": []
          },
          "execution_count": 9
        }
      ]
    },
    {
      "cell_type": "code",
      "metadata": {
        "id": "LEu-S0UEgxxB",
        "outputId": "7c333f03-8c11-44cf-8a40-066895f9b504",
        "colab": {
          "base_uri": "https://localhost:8080/",
          "height": 162
        }
      },
      "source": [
        "returns.corr()"
      ],
      "execution_count": 10,
      "outputs": [
        {
          "output_type": "execute_result",
          "data": {
            "text/plain": [
              "          AAPL      GOOG       IBM      MSFT\n",
              "AAPL  1.000000  0.528526  0.442109  0.556910\n",
              "GOOG  0.528526  1.000000  0.467327  0.611850\n",
              "IBM   0.442109  0.467327  1.000000  0.539896\n",
              "MSFT  0.556910  0.611850  0.539896  1.000000"
            ],
            "text/html": [
              "<div>\n",
              "<style scoped>\n",
              "    .dataframe tbody tr th:only-of-type {\n",
              "        vertical-align: middle;\n",
              "    }\n",
              "\n",
              "    .dataframe tbody tr th {\n",
              "        vertical-align: top;\n",
              "    }\n",
              "\n",
              "    .dataframe thead th {\n",
              "        text-align: right;\n",
              "    }\n",
              "</style>\n",
              "<table border=\"1\" class=\"dataframe\">\n",
              "  <thead>\n",
              "    <tr style=\"text-align: right;\">\n",
              "      <th></th>\n",
              "      <th>AAPL</th>\n",
              "      <th>GOOG</th>\n",
              "      <th>IBM</th>\n",
              "      <th>MSFT</th>\n",
              "    </tr>\n",
              "  </thead>\n",
              "  <tbody>\n",
              "    <tr>\n",
              "      <th>AAPL</th>\n",
              "      <td>1.000000</td>\n",
              "      <td>0.528526</td>\n",
              "      <td>0.442109</td>\n",
              "      <td>0.556910</td>\n",
              "    </tr>\n",
              "    <tr>\n",
              "      <th>GOOG</th>\n",
              "      <td>0.528526</td>\n",
              "      <td>1.000000</td>\n",
              "      <td>0.467327</td>\n",
              "      <td>0.611850</td>\n",
              "    </tr>\n",
              "    <tr>\n",
              "      <th>IBM</th>\n",
              "      <td>0.442109</td>\n",
              "      <td>0.467327</td>\n",
              "      <td>1.000000</td>\n",
              "      <td>0.539896</td>\n",
              "    </tr>\n",
              "    <tr>\n",
              "      <th>MSFT</th>\n",
              "      <td>0.556910</td>\n",
              "      <td>0.611850</td>\n",
              "      <td>0.539896</td>\n",
              "      <td>1.000000</td>\n",
              "    </tr>\n",
              "  </tbody>\n",
              "</table>\n",
              "</div>"
            ]
          },
          "metadata": {
            "tags": []
          },
          "execution_count": 10
        }
      ]
    },
    {
      "cell_type": "code",
      "metadata": {
        "id": "g2mGhfBdgxxD",
        "outputId": "2e05b155-3ed3-48d9-b9f2-ed99e7c4f542",
        "colab": {
          "base_uri": "https://localhost:8080/",
          "height": 162
        }
      },
      "source": [
        "returns.cov()"
      ],
      "execution_count": 11,
      "outputs": [
        {
          "output_type": "execute_result",
          "data": {
            "text/plain": [
              "          AAPL      GOOG       IBM      MSFT\n",
              "AAPL  0.000318  0.000155  0.000111  0.000159\n",
              "GOOG  0.000155  0.000271  0.000108  0.000161\n",
              "IBM   0.000111  0.000108  0.000198  0.000122\n",
              "MSFT  0.000159  0.000161  0.000122  0.000257"
            ],
            "text/html": [
              "<div>\n",
              "<style scoped>\n",
              "    .dataframe tbody tr th:only-of-type {\n",
              "        vertical-align: middle;\n",
              "    }\n",
              "\n",
              "    .dataframe tbody tr th {\n",
              "        vertical-align: top;\n",
              "    }\n",
              "\n",
              "    .dataframe thead th {\n",
              "        text-align: right;\n",
              "    }\n",
              "</style>\n",
              "<table border=\"1\" class=\"dataframe\">\n",
              "  <thead>\n",
              "    <tr style=\"text-align: right;\">\n",
              "      <th></th>\n",
              "      <th>AAPL</th>\n",
              "      <th>GOOG</th>\n",
              "      <th>IBM</th>\n",
              "      <th>MSFT</th>\n",
              "    </tr>\n",
              "  </thead>\n",
              "  <tbody>\n",
              "    <tr>\n",
              "      <th>AAPL</th>\n",
              "      <td>0.000318</td>\n",
              "      <td>0.000155</td>\n",
              "      <td>0.000111</td>\n",
              "      <td>0.000159</td>\n",
              "    </tr>\n",
              "    <tr>\n",
              "      <th>GOOG</th>\n",
              "      <td>0.000155</td>\n",
              "      <td>0.000271</td>\n",
              "      <td>0.000108</td>\n",
              "      <td>0.000161</td>\n",
              "    </tr>\n",
              "    <tr>\n",
              "      <th>IBM</th>\n",
              "      <td>0.000111</td>\n",
              "      <td>0.000108</td>\n",
              "      <td>0.000198</td>\n",
              "      <td>0.000122</td>\n",
              "    </tr>\n",
              "    <tr>\n",
              "      <th>MSFT</th>\n",
              "      <td>0.000159</td>\n",
              "      <td>0.000161</td>\n",
              "      <td>0.000122</td>\n",
              "      <td>0.000257</td>\n",
              "    </tr>\n",
              "  </tbody>\n",
              "</table>\n",
              "</div>"
            ]
          },
          "metadata": {
            "tags": []
          },
          "execution_count": 11
        }
      ]
    },
    {
      "cell_type": "code",
      "metadata": {
        "id": "kqV6nzUugxxE",
        "outputId": "226bc91b-ca9c-403d-fb5c-03bb91f0b625",
        "colab": {
          "base_uri": "https://localhost:8080/"
        }
      },
      "source": [
        "returns.corrwith(returns.IBM)"
      ],
      "execution_count": 12,
      "outputs": [
        {
          "output_type": "execute_result",
          "data": {
            "text/plain": [
              "AAPL    0.442109\n",
              "GOOG    0.467327\n",
              "IBM     1.000000\n",
              "MSFT    0.539896\n",
              "dtype: float64"
            ]
          },
          "metadata": {
            "tags": []
          },
          "execution_count": 12
        }
      ]
    },
    {
      "cell_type": "code",
      "metadata": {
        "id": "3f9w0BjegxxH",
        "outputId": "695a2892-2fc9-45b8-d0ec-717d24d1fee5",
        "colab": {
          "base_uri": "https://localhost:8080/"
        }
      },
      "source": [
        "returns.corrwith(volume)"
      ],
      "execution_count": 13,
      "outputs": [
        {
          "output_type": "execute_result",
          "data": {
            "text/plain": [
              "AAPL   -0.063865\n",
              "GOOG   -0.023608\n",
              "IBM    -0.133089\n",
              "MSFT   -0.084270\n",
              "dtype: float64"
            ]
          },
          "metadata": {
            "tags": []
          },
          "execution_count": 13
        }
      ]
    },
    {
      "cell_type": "markdown",
      "metadata": {
        "id": "Vba8YhxcgxxK"
      },
      "source": [
        "### Unique values, value counts, and membership"
      ]
    },
    {
      "cell_type": "code",
      "metadata": {
        "id": "paSzDg72gxxK"
      },
      "source": [
        "obj = Series(['c', 'a', 'd', 'a', 'a', 'b', 'b', 'c', 'c'])"
      ],
      "execution_count": 14,
      "outputs": []
    },
    {
      "cell_type": "code",
      "metadata": {
        "id": "-uhhD_VJgxxM",
        "outputId": "73821cc6-2d22-4e0a-fe8b-c15f46e81985",
        "colab": {
          "base_uri": "https://localhost:8080/"
        }
      },
      "source": [
        "uniques = obj.unique()\n",
        "uniques"
      ],
      "execution_count": 15,
      "outputs": [
        {
          "output_type": "execute_result",
          "data": {
            "text/plain": [
              "array(['c', 'a', 'd', 'b'], dtype=object)"
            ]
          },
          "metadata": {
            "tags": []
          },
          "execution_count": 15
        }
      ]
    },
    {
      "cell_type": "code",
      "metadata": {
        "id": "X2gHD_LygxxN",
        "outputId": "dbf94b0c-c634-4301-f849-e18824eb0f9f",
        "colab": {
          "base_uri": "https://localhost:8080/"
        }
      },
      "source": [
        "obj.value_counts()"
      ],
      "execution_count": 16,
      "outputs": [
        {
          "output_type": "execute_result",
          "data": {
            "text/plain": [
              "c    3\n",
              "a    3\n",
              "b    2\n",
              "d    1\n",
              "dtype: int64"
            ]
          },
          "metadata": {
            "tags": []
          },
          "execution_count": 16
        }
      ]
    },
    {
      "cell_type": "code",
      "metadata": {
        "id": "B4eNhh0ugxxO",
        "outputId": "f6bcac7f-16ff-4e8b-c1c4-e8153fd54380",
        "colab": {
          "base_uri": "https://localhost:8080/"
        }
      },
      "source": [
        "pd.value_counts(obj.values, sort=False)"
      ],
      "execution_count": 17,
      "outputs": [
        {
          "output_type": "execute_result",
          "data": {
            "text/plain": [
              "a    3\n",
              "c    3\n",
              "b    2\n",
              "d    1\n",
              "dtype: int64"
            ]
          },
          "metadata": {
            "tags": []
          },
          "execution_count": 17
        }
      ]
    },
    {
      "cell_type": "code",
      "metadata": {
        "id": "ywxAkw70gxxP",
        "outputId": "4aabd4f5-b277-4859-9456-c14bcb240c38",
        "colab": {
          "base_uri": "https://localhost:8080/"
        }
      },
      "source": [
        "mask = obj.isin(['b', 'c'])\n",
        "mask"
      ],
      "execution_count": 18,
      "outputs": [
        {
          "output_type": "execute_result",
          "data": {
            "text/plain": [
              "0     True\n",
              "1    False\n",
              "2    False\n",
              "3    False\n",
              "4    False\n",
              "5     True\n",
              "6     True\n",
              "7     True\n",
              "8     True\n",
              "dtype: bool"
            ]
          },
          "metadata": {
            "tags": []
          },
          "execution_count": 18
        }
      ]
    },
    {
      "cell_type": "code",
      "metadata": {
        "id": "eaDMS1YAgxxR",
        "outputId": "ba666e41-430a-418f-dd8b-542ff33eadcc",
        "colab": {
          "base_uri": "https://localhost:8080/"
        }
      },
      "source": [
        "obj[mask]"
      ],
      "execution_count": 19,
      "outputs": [
        {
          "output_type": "execute_result",
          "data": {
            "text/plain": [
              "0    c\n",
              "5    b\n",
              "6    b\n",
              "7    c\n",
              "8    c\n",
              "dtype: object"
            ]
          },
          "metadata": {
            "tags": []
          },
          "execution_count": 19
        }
      ]
    },
    {
      "cell_type": "code",
      "metadata": {
        "id": "Q74By1LCrLDB"
      },
      "source": [
        "to_match = pd.Series(['c', 'a', 'b', 'b', 'c', 'a'])"
      ],
      "execution_count": 22,
      "outputs": []
    },
    {
      "cell_type": "code",
      "metadata": {
        "id": "b1PcxKr9rdvj"
      },
      "source": [
        "unique_vals = pd.Series(['c', 'b', 'a'])"
      ],
      "execution_count": 24,
      "outputs": []
    },
    {
      "cell_type": "code",
      "metadata": {
        "id": "YMBBaZqNrsNs",
        "outputId": "821c3031-ec4c-407c-88b5-81cf10ed637e",
        "colab": {
          "base_uri": "https://localhost:8080/"
        }
      },
      "source": [
        "pd.Index(unique_vals).get_indexer(to_match)"
      ],
      "execution_count": 25,
      "outputs": [
        {
          "output_type": "execute_result",
          "data": {
            "text/plain": [
              "array([0, 2, 1, 1, 0, 2])"
            ]
          },
          "metadata": {
            "tags": []
          },
          "execution_count": 25
        }
      ]
    },
    {
      "cell_type": "code",
      "metadata": {
        "id": "6ZGl8303r3E4"
      },
      "source": [
        ""
      ],
      "execution_count": null,
      "outputs": []
    },
    {
      "cell_type": "code",
      "metadata": {
        "id": "C-NYqlM8gxxS",
        "outputId": "98adc0b0-c571-4d1d-a14e-49237d5db1c7",
        "colab": {
          "base_uri": "https://localhost:8080/",
          "height": 191
        }
      },
      "source": [
        "data = DataFrame({'Qu1': [1, 3, 4, 3, 4],\n",
        "                  'Qu2': [2, 3, 1, 2, 3],\n",
        "                  'Qu3': [1, 5, 2, 4, 4]})\n",
        "data"
      ],
      "execution_count": 20,
      "outputs": [
        {
          "output_type": "execute_result",
          "data": {
            "text/plain": [
              "   Qu1  Qu2  Qu3\n",
              "0    1    2    1\n",
              "1    3    3    5\n",
              "2    4    1    2\n",
              "3    3    2    4\n",
              "4    4    3    4"
            ],
            "text/html": [
              "<div>\n",
              "<style scoped>\n",
              "    .dataframe tbody tr th:only-of-type {\n",
              "        vertical-align: middle;\n",
              "    }\n",
              "\n",
              "    .dataframe tbody tr th {\n",
              "        vertical-align: top;\n",
              "    }\n",
              "\n",
              "    .dataframe thead th {\n",
              "        text-align: right;\n",
              "    }\n",
              "</style>\n",
              "<table border=\"1\" class=\"dataframe\">\n",
              "  <thead>\n",
              "    <tr style=\"text-align: right;\">\n",
              "      <th></th>\n",
              "      <th>Qu1</th>\n",
              "      <th>Qu2</th>\n",
              "      <th>Qu3</th>\n",
              "    </tr>\n",
              "  </thead>\n",
              "  <tbody>\n",
              "    <tr>\n",
              "      <th>0</th>\n",
              "      <td>1</td>\n",
              "      <td>2</td>\n",
              "      <td>1</td>\n",
              "    </tr>\n",
              "    <tr>\n",
              "      <th>1</th>\n",
              "      <td>3</td>\n",
              "      <td>3</td>\n",
              "      <td>5</td>\n",
              "    </tr>\n",
              "    <tr>\n",
              "      <th>2</th>\n",
              "      <td>4</td>\n",
              "      <td>1</td>\n",
              "      <td>2</td>\n",
              "    </tr>\n",
              "    <tr>\n",
              "      <th>3</th>\n",
              "      <td>3</td>\n",
              "      <td>2</td>\n",
              "      <td>4</td>\n",
              "    </tr>\n",
              "    <tr>\n",
              "      <th>4</th>\n",
              "      <td>4</td>\n",
              "      <td>3</td>\n",
              "      <td>4</td>\n",
              "    </tr>\n",
              "  </tbody>\n",
              "</table>\n",
              "</div>"
            ]
          },
          "metadata": {
            "tags": []
          },
          "execution_count": 20
        }
      ]
    },
    {
      "cell_type": "code",
      "metadata": {
        "id": "Z9SL1D3UgxxU",
        "outputId": "2ec31e10-2ad8-4ce6-eca9-8a36421aeb01",
        "colab": {
          "base_uri": "https://localhost:8080/",
          "height": 191
        }
      },
      "source": [
        "result = data.apply(pd.value_counts).fillna(0)\n",
        "result"
      ],
      "execution_count": 21,
      "outputs": [
        {
          "output_type": "execute_result",
          "data": {
            "text/plain": [
              "   Qu1  Qu2  Qu3\n",
              "1  1.0  1.0  1.0\n",
              "2  0.0  2.0  1.0\n",
              "3  2.0  2.0  0.0\n",
              "4  2.0  0.0  2.0\n",
              "5  0.0  0.0  1.0"
            ],
            "text/html": [
              "<div>\n",
              "<style scoped>\n",
              "    .dataframe tbody tr th:only-of-type {\n",
              "        vertical-align: middle;\n",
              "    }\n",
              "\n",
              "    .dataframe tbody tr th {\n",
              "        vertical-align: top;\n",
              "    }\n",
              "\n",
              "    .dataframe thead th {\n",
              "        text-align: right;\n",
              "    }\n",
              "</style>\n",
              "<table border=\"1\" class=\"dataframe\">\n",
              "  <thead>\n",
              "    <tr style=\"text-align: right;\">\n",
              "      <th></th>\n",
              "      <th>Qu1</th>\n",
              "      <th>Qu2</th>\n",
              "      <th>Qu3</th>\n",
              "    </tr>\n",
              "  </thead>\n",
              "  <tbody>\n",
              "    <tr>\n",
              "      <th>1</th>\n",
              "      <td>1.0</td>\n",
              "      <td>1.0</td>\n",
              "      <td>1.0</td>\n",
              "    </tr>\n",
              "    <tr>\n",
              "      <th>2</th>\n",
              "      <td>0.0</td>\n",
              "      <td>2.0</td>\n",
              "      <td>1.0</td>\n",
              "    </tr>\n",
              "    <tr>\n",
              "      <th>3</th>\n",
              "      <td>2.0</td>\n",
              "      <td>2.0</td>\n",
              "      <td>0.0</td>\n",
              "    </tr>\n",
              "    <tr>\n",
              "      <th>4</th>\n",
              "      <td>2.0</td>\n",
              "      <td>0.0</td>\n",
              "      <td>2.0</td>\n",
              "    </tr>\n",
              "    <tr>\n",
              "      <th>5</th>\n",
              "      <td>0.0</td>\n",
              "      <td>0.0</td>\n",
              "      <td>1.0</td>\n",
              "    </tr>\n",
              "  </tbody>\n",
              "</table>\n",
              "</div>"
            ]
          },
          "metadata": {
            "tags": []
          },
          "execution_count": 21
        }
      ]
    },
    {
      "cell_type": "markdown",
      "metadata": {
        "id": "2CHKnYxbgxxW"
      },
      "source": [
        "## Handling missing data"
      ]
    },
    {
      "cell_type": "code",
      "metadata": {
        "id": "nt1QDK-ZgxxW",
        "outputId": "eafccf57-3b5e-49ce-cff0-b558f457ade1",
        "colab": {
          "base_uri": "https://localhost:8080/"
        }
      },
      "source": [
        "string_data = Series(['aardvark', 'artichoke', np.nan, 'avocado'])\n",
        "string_data"
      ],
      "execution_count": 26,
      "outputs": [
        {
          "output_type": "execute_result",
          "data": {
            "text/plain": [
              "0     aardvark\n",
              "1    artichoke\n",
              "2          NaN\n",
              "3      avocado\n",
              "dtype: object"
            ]
          },
          "metadata": {
            "tags": []
          },
          "execution_count": 26
        }
      ]
    },
    {
      "cell_type": "code",
      "metadata": {
        "id": "QSqwVu_NgxxY",
        "outputId": "8144996a-db31-41e2-d8b1-11bb690d71ec",
        "colab": {
          "base_uri": "https://localhost:8080/"
        }
      },
      "source": [
        "string_data.isnull()"
      ],
      "execution_count": 27,
      "outputs": [
        {
          "output_type": "execute_result",
          "data": {
            "text/plain": [
              "0    False\n",
              "1    False\n",
              "2     True\n",
              "3    False\n",
              "dtype: bool"
            ]
          },
          "metadata": {
            "tags": []
          },
          "execution_count": 27
        }
      ]
    },
    {
      "cell_type": "code",
      "metadata": {
        "id": "XXgYIo9tgxxa",
        "outputId": "52d529ad-a9e6-4c11-af6a-88387d205a84",
        "colab": {
          "base_uri": "https://localhost:8080/"
        }
      },
      "source": [
        "string_data[0] = None\n",
        "string_data.isnull()"
      ],
      "execution_count": 28,
      "outputs": [
        {
          "output_type": "execute_result",
          "data": {
            "text/plain": [
              "0     True\n",
              "1    False\n",
              "2     True\n",
              "3    False\n",
              "dtype: bool"
            ]
          },
          "metadata": {
            "tags": []
          },
          "execution_count": 28
        }
      ]
    },
    {
      "cell_type": "markdown",
      "metadata": {
        "id": "HIpH4Wpcgxxc"
      },
      "source": [
        "### Filtering out missing data"
      ]
    },
    {
      "cell_type": "code",
      "metadata": {
        "id": "TMdDUrewgxxc",
        "outputId": "9d0c2934-114c-45a1-e807-1e4a87279c50",
        "colab": {
          "base_uri": "https://localhost:8080/"
        }
      },
      "source": [
        "from numpy import nan as NA\n",
        "data = Series([1, NA, 3.5, NA, 7])\n",
        "data.dropna()"
      ],
      "execution_count": 29,
      "outputs": [
        {
          "output_type": "execute_result",
          "data": {
            "text/plain": [
              "0    1.0\n",
              "2    3.5\n",
              "4    7.0\n",
              "dtype: float64"
            ]
          },
          "metadata": {
            "tags": []
          },
          "execution_count": 29
        }
      ]
    },
    {
      "cell_type": "code",
      "metadata": {
        "id": "CyoNNylZgxxd",
        "outputId": "0f82ad44-2fd6-471e-8290-ba267bbbdd48",
        "colab": {
          "base_uri": "https://localhost:8080/"
        }
      },
      "source": [
        "data[data.notnull()]"
      ],
      "execution_count": 30,
      "outputs": [
        {
          "output_type": "execute_result",
          "data": {
            "text/plain": [
              "0    1.0\n",
              "2    3.5\n",
              "4    7.0\n",
              "dtype: float64"
            ]
          },
          "metadata": {
            "tags": []
          },
          "execution_count": 30
        }
      ]
    },
    {
      "cell_type": "code",
      "metadata": {
        "id": "k2tQc446gxxf",
        "outputId": "0f88cebc-badf-4f07-86bf-9aab58760015",
        "colab": {
          "base_uri": "https://localhost:8080/",
          "height": 162
        }
      },
      "source": [
        "data = DataFrame([[1., 6.5, 3.], [1., NA, NA],\n",
        "                  [NA, NA, NA], [NA, 6.5, 3.]])\n",
        "cleaned = data.dropna()\n",
        "data"
      ],
      "execution_count": 31,
      "outputs": [
        {
          "output_type": "execute_result",
          "data": {
            "text/plain": [
              "     0    1    2\n",
              "0  1.0  6.5  3.0\n",
              "1  1.0  NaN  NaN\n",
              "2  NaN  NaN  NaN\n",
              "3  NaN  6.5  3.0"
            ],
            "text/html": [
              "<div>\n",
              "<style scoped>\n",
              "    .dataframe tbody tr th:only-of-type {\n",
              "        vertical-align: middle;\n",
              "    }\n",
              "\n",
              "    .dataframe tbody tr th {\n",
              "        vertical-align: top;\n",
              "    }\n",
              "\n",
              "    .dataframe thead th {\n",
              "        text-align: right;\n",
              "    }\n",
              "</style>\n",
              "<table border=\"1\" class=\"dataframe\">\n",
              "  <thead>\n",
              "    <tr style=\"text-align: right;\">\n",
              "      <th></th>\n",
              "      <th>0</th>\n",
              "      <th>1</th>\n",
              "      <th>2</th>\n",
              "    </tr>\n",
              "  </thead>\n",
              "  <tbody>\n",
              "    <tr>\n",
              "      <th>0</th>\n",
              "      <td>1.0</td>\n",
              "      <td>6.5</td>\n",
              "      <td>3.0</td>\n",
              "    </tr>\n",
              "    <tr>\n",
              "      <th>1</th>\n",
              "      <td>1.0</td>\n",
              "      <td>NaN</td>\n",
              "      <td>NaN</td>\n",
              "    </tr>\n",
              "    <tr>\n",
              "      <th>2</th>\n",
              "      <td>NaN</td>\n",
              "      <td>NaN</td>\n",
              "      <td>NaN</td>\n",
              "    </tr>\n",
              "    <tr>\n",
              "      <th>3</th>\n",
              "      <td>NaN</td>\n",
              "      <td>6.5</td>\n",
              "      <td>3.0</td>\n",
              "    </tr>\n",
              "  </tbody>\n",
              "</table>\n",
              "</div>"
            ]
          },
          "metadata": {
            "tags": []
          },
          "execution_count": 31
        }
      ]
    },
    {
      "cell_type": "code",
      "metadata": {
        "id": "71SaJJ8Mgxxg",
        "outputId": "d244511c-a81e-40de-eef3-ecdce0e357e8",
        "colab": {
          "base_uri": "https://localhost:8080/",
          "height": 76
        }
      },
      "source": [
        "cleaned"
      ],
      "execution_count": 32,
      "outputs": [
        {
          "output_type": "execute_result",
          "data": {
            "text/plain": [
              "     0    1    2\n",
              "0  1.0  6.5  3.0"
            ],
            "text/html": [
              "<div>\n",
              "<style scoped>\n",
              "    .dataframe tbody tr th:only-of-type {\n",
              "        vertical-align: middle;\n",
              "    }\n",
              "\n",
              "    .dataframe tbody tr th {\n",
              "        vertical-align: top;\n",
              "    }\n",
              "\n",
              "    .dataframe thead th {\n",
              "        text-align: right;\n",
              "    }\n",
              "</style>\n",
              "<table border=\"1\" class=\"dataframe\">\n",
              "  <thead>\n",
              "    <tr style=\"text-align: right;\">\n",
              "      <th></th>\n",
              "      <th>0</th>\n",
              "      <th>1</th>\n",
              "      <th>2</th>\n",
              "    </tr>\n",
              "  </thead>\n",
              "  <tbody>\n",
              "    <tr>\n",
              "      <th>0</th>\n",
              "      <td>1.0</td>\n",
              "      <td>6.5</td>\n",
              "      <td>3.0</td>\n",
              "    </tr>\n",
              "  </tbody>\n",
              "</table>\n",
              "</div>"
            ]
          },
          "metadata": {
            "tags": []
          },
          "execution_count": 32
        }
      ]
    },
    {
      "cell_type": "code",
      "metadata": {
        "id": "MAibPQVOgxxi",
        "outputId": "a3a99edd-f98a-49ff-f8e1-6d0a5c9b98f8",
        "colab": {
          "base_uri": "https://localhost:8080/",
          "height": 133
        }
      },
      "source": [
        "data.dropna(how='all')"
      ],
      "execution_count": 33,
      "outputs": [
        {
          "output_type": "execute_result",
          "data": {
            "text/plain": [
              "     0    1    2\n",
              "0  1.0  6.5  3.0\n",
              "1  1.0  NaN  NaN\n",
              "3  NaN  6.5  3.0"
            ],
            "text/html": [
              "<div>\n",
              "<style scoped>\n",
              "    .dataframe tbody tr th:only-of-type {\n",
              "        vertical-align: middle;\n",
              "    }\n",
              "\n",
              "    .dataframe tbody tr th {\n",
              "        vertical-align: top;\n",
              "    }\n",
              "\n",
              "    .dataframe thead th {\n",
              "        text-align: right;\n",
              "    }\n",
              "</style>\n",
              "<table border=\"1\" class=\"dataframe\">\n",
              "  <thead>\n",
              "    <tr style=\"text-align: right;\">\n",
              "      <th></th>\n",
              "      <th>0</th>\n",
              "      <th>1</th>\n",
              "      <th>2</th>\n",
              "    </tr>\n",
              "  </thead>\n",
              "  <tbody>\n",
              "    <tr>\n",
              "      <th>0</th>\n",
              "      <td>1.0</td>\n",
              "      <td>6.5</td>\n",
              "      <td>3.0</td>\n",
              "    </tr>\n",
              "    <tr>\n",
              "      <th>1</th>\n",
              "      <td>1.0</td>\n",
              "      <td>NaN</td>\n",
              "      <td>NaN</td>\n",
              "    </tr>\n",
              "    <tr>\n",
              "      <th>3</th>\n",
              "      <td>NaN</td>\n",
              "      <td>6.5</td>\n",
              "      <td>3.0</td>\n",
              "    </tr>\n",
              "  </tbody>\n",
              "</table>\n",
              "</div>"
            ]
          },
          "metadata": {
            "tags": []
          },
          "execution_count": 33
        }
      ]
    },
    {
      "cell_type": "code",
      "metadata": {
        "id": "-tbW5dGkgxxk",
        "outputId": "9d198934-ccc7-4412-da40-0f71c546877e",
        "colab": {
          "base_uri": "https://localhost:8080/",
          "height": 162
        }
      },
      "source": [
        "data[4] = NA\n",
        "data"
      ],
      "execution_count": 34,
      "outputs": [
        {
          "output_type": "execute_result",
          "data": {
            "text/plain": [
              "     0    1    2   4\n",
              "0  1.0  6.5  3.0 NaN\n",
              "1  1.0  NaN  NaN NaN\n",
              "2  NaN  NaN  NaN NaN\n",
              "3  NaN  6.5  3.0 NaN"
            ],
            "text/html": [
              "<div>\n",
              "<style scoped>\n",
              "    .dataframe tbody tr th:only-of-type {\n",
              "        vertical-align: middle;\n",
              "    }\n",
              "\n",
              "    .dataframe tbody tr th {\n",
              "        vertical-align: top;\n",
              "    }\n",
              "\n",
              "    .dataframe thead th {\n",
              "        text-align: right;\n",
              "    }\n",
              "</style>\n",
              "<table border=\"1\" class=\"dataframe\">\n",
              "  <thead>\n",
              "    <tr style=\"text-align: right;\">\n",
              "      <th></th>\n",
              "      <th>0</th>\n",
              "      <th>1</th>\n",
              "      <th>2</th>\n",
              "      <th>4</th>\n",
              "    </tr>\n",
              "  </thead>\n",
              "  <tbody>\n",
              "    <tr>\n",
              "      <th>0</th>\n",
              "      <td>1.0</td>\n",
              "      <td>6.5</td>\n",
              "      <td>3.0</td>\n",
              "      <td>NaN</td>\n",
              "    </tr>\n",
              "    <tr>\n",
              "      <th>1</th>\n",
              "      <td>1.0</td>\n",
              "      <td>NaN</td>\n",
              "      <td>NaN</td>\n",
              "      <td>NaN</td>\n",
              "    </tr>\n",
              "    <tr>\n",
              "      <th>2</th>\n",
              "      <td>NaN</td>\n",
              "      <td>NaN</td>\n",
              "      <td>NaN</td>\n",
              "      <td>NaN</td>\n",
              "    </tr>\n",
              "    <tr>\n",
              "      <th>3</th>\n",
              "      <td>NaN</td>\n",
              "      <td>6.5</td>\n",
              "      <td>3.0</td>\n",
              "      <td>NaN</td>\n",
              "    </tr>\n",
              "  </tbody>\n",
              "</table>\n",
              "</div>"
            ]
          },
          "metadata": {
            "tags": []
          },
          "execution_count": 34
        }
      ]
    },
    {
      "cell_type": "code",
      "metadata": {
        "id": "RPPld-s-gxxn",
        "outputId": "32d730cf-5472-472d-e734-0be322875edd",
        "colab": {
          "base_uri": "https://localhost:8080/",
          "height": 162
        }
      },
      "source": [
        "data.dropna(axis=1, how='all')"
      ],
      "execution_count": 35,
      "outputs": [
        {
          "output_type": "execute_result",
          "data": {
            "text/plain": [
              "     0    1    2\n",
              "0  1.0  6.5  3.0\n",
              "1  1.0  NaN  NaN\n",
              "2  NaN  NaN  NaN\n",
              "3  NaN  6.5  3.0"
            ],
            "text/html": [
              "<div>\n",
              "<style scoped>\n",
              "    .dataframe tbody tr th:only-of-type {\n",
              "        vertical-align: middle;\n",
              "    }\n",
              "\n",
              "    .dataframe tbody tr th {\n",
              "        vertical-align: top;\n",
              "    }\n",
              "\n",
              "    .dataframe thead th {\n",
              "        text-align: right;\n",
              "    }\n",
              "</style>\n",
              "<table border=\"1\" class=\"dataframe\">\n",
              "  <thead>\n",
              "    <tr style=\"text-align: right;\">\n",
              "      <th></th>\n",
              "      <th>0</th>\n",
              "      <th>1</th>\n",
              "      <th>2</th>\n",
              "    </tr>\n",
              "  </thead>\n",
              "  <tbody>\n",
              "    <tr>\n",
              "      <th>0</th>\n",
              "      <td>1.0</td>\n",
              "      <td>6.5</td>\n",
              "      <td>3.0</td>\n",
              "    </tr>\n",
              "    <tr>\n",
              "      <th>1</th>\n",
              "      <td>1.0</td>\n",
              "      <td>NaN</td>\n",
              "      <td>NaN</td>\n",
              "    </tr>\n",
              "    <tr>\n",
              "      <th>2</th>\n",
              "      <td>NaN</td>\n",
              "      <td>NaN</td>\n",
              "      <td>NaN</td>\n",
              "    </tr>\n",
              "    <tr>\n",
              "      <th>3</th>\n",
              "      <td>NaN</td>\n",
              "      <td>6.5</td>\n",
              "      <td>3.0</td>\n",
              "    </tr>\n",
              "  </tbody>\n",
              "</table>\n",
              "</div>"
            ]
          },
          "metadata": {
            "tags": []
          },
          "execution_count": 35
        }
      ]
    },
    {
      "cell_type": "code",
      "metadata": {
        "id": "vmMuelYtgxxv",
        "outputId": "b58cc4d6-004a-40a9-fc07-7b839fc0822f",
        "colab": {
          "base_uri": "https://localhost:8080/",
          "height": 378
        }
      },
      "source": [
        "df = DataFrame(np.random.randn(7, 3))\n",
        "df.ix[:4, 1] = NA; df.ix[:2, 2] = NA\n",
        "df"
      ],
      "execution_count": 36,
      "outputs": [
        {
          "output_type": "stream",
          "text": [
            "/usr/local/lib/python2.7/dist-packages/ipykernel_launcher.py:2: DeprecationWarning: \n",
            ".ix is deprecated. Please use\n",
            ".loc for label based indexing or\n",
            ".iloc for positional indexing\n",
            "\n",
            "See the documentation here:\n",
            "http://pandas.pydata.org/pandas-docs/stable/indexing.html#ix-indexer-is-deprecated\n",
            "  \n"
          ],
          "name": "stderr"
        },
        {
          "output_type": "execute_result",
          "data": {
            "text/plain": [
              "          0         1         2\n",
              "0 -0.204708       NaN       NaN\n",
              "1 -0.555730       NaN       NaN\n",
              "2  0.092908       NaN       NaN\n",
              "3  1.246435       NaN -1.296221\n",
              "4  0.274992       NaN  1.352917\n",
              "5  0.886429 -2.001637 -0.371843\n",
              "6  1.669025 -0.438570 -0.539741"
            ],
            "text/html": [
              "<div>\n",
              "<style scoped>\n",
              "    .dataframe tbody tr th:only-of-type {\n",
              "        vertical-align: middle;\n",
              "    }\n",
              "\n",
              "    .dataframe tbody tr th {\n",
              "        vertical-align: top;\n",
              "    }\n",
              "\n",
              "    .dataframe thead th {\n",
              "        text-align: right;\n",
              "    }\n",
              "</style>\n",
              "<table border=\"1\" class=\"dataframe\">\n",
              "  <thead>\n",
              "    <tr style=\"text-align: right;\">\n",
              "      <th></th>\n",
              "      <th>0</th>\n",
              "      <th>1</th>\n",
              "      <th>2</th>\n",
              "    </tr>\n",
              "  </thead>\n",
              "  <tbody>\n",
              "    <tr>\n",
              "      <th>0</th>\n",
              "      <td>-0.204708</td>\n",
              "      <td>NaN</td>\n",
              "      <td>NaN</td>\n",
              "    </tr>\n",
              "    <tr>\n",
              "      <th>1</th>\n",
              "      <td>-0.555730</td>\n",
              "      <td>NaN</td>\n",
              "      <td>NaN</td>\n",
              "    </tr>\n",
              "    <tr>\n",
              "      <th>2</th>\n",
              "      <td>0.092908</td>\n",
              "      <td>NaN</td>\n",
              "      <td>NaN</td>\n",
              "    </tr>\n",
              "    <tr>\n",
              "      <th>3</th>\n",
              "      <td>1.246435</td>\n",
              "      <td>NaN</td>\n",
              "      <td>-1.296221</td>\n",
              "    </tr>\n",
              "    <tr>\n",
              "      <th>4</th>\n",
              "      <td>0.274992</td>\n",
              "      <td>NaN</td>\n",
              "      <td>1.352917</td>\n",
              "    </tr>\n",
              "    <tr>\n",
              "      <th>5</th>\n",
              "      <td>0.886429</td>\n",
              "      <td>-2.001637</td>\n",
              "      <td>-0.371843</td>\n",
              "    </tr>\n",
              "    <tr>\n",
              "      <th>6</th>\n",
              "      <td>1.669025</td>\n",
              "      <td>-0.438570</td>\n",
              "      <td>-0.539741</td>\n",
              "    </tr>\n",
              "  </tbody>\n",
              "</table>\n",
              "</div>"
            ]
          },
          "metadata": {
            "tags": []
          },
          "execution_count": 36
        }
      ]
    },
    {
      "cell_type": "code",
      "metadata": {
        "id": "DQ5hNsEhgxxz",
        "outputId": "59fca103-5068-4a33-cbdd-1b72ad63723e",
        "colab": {
          "base_uri": "https://localhost:8080/",
          "height": 105
        }
      },
      "source": [
        "df.dropna(thresh=3)"
      ],
      "execution_count": 37,
      "outputs": [
        {
          "output_type": "execute_result",
          "data": {
            "text/plain": [
              "          0         1         2\n",
              "5  0.886429 -2.001637 -0.371843\n",
              "6  1.669025 -0.438570 -0.539741"
            ],
            "text/html": [
              "<div>\n",
              "<style scoped>\n",
              "    .dataframe tbody tr th:only-of-type {\n",
              "        vertical-align: middle;\n",
              "    }\n",
              "\n",
              "    .dataframe tbody tr th {\n",
              "        vertical-align: top;\n",
              "    }\n",
              "\n",
              "    .dataframe thead th {\n",
              "        text-align: right;\n",
              "    }\n",
              "</style>\n",
              "<table border=\"1\" class=\"dataframe\">\n",
              "  <thead>\n",
              "    <tr style=\"text-align: right;\">\n",
              "      <th></th>\n",
              "      <th>0</th>\n",
              "      <th>1</th>\n",
              "      <th>2</th>\n",
              "    </tr>\n",
              "  </thead>\n",
              "  <tbody>\n",
              "    <tr>\n",
              "      <th>5</th>\n",
              "      <td>0.886429</td>\n",
              "      <td>-2.001637</td>\n",
              "      <td>-0.371843</td>\n",
              "    </tr>\n",
              "    <tr>\n",
              "      <th>6</th>\n",
              "      <td>1.669025</td>\n",
              "      <td>-0.438570</td>\n",
              "      <td>-0.539741</td>\n",
              "    </tr>\n",
              "  </tbody>\n",
              "</table>\n",
              "</div>"
            ]
          },
          "metadata": {
            "tags": []
          },
          "execution_count": 37
        }
      ]
    },
    {
      "cell_type": "markdown",
      "metadata": {
        "id": "eLzqdFUxgxx1"
      },
      "source": [
        "### Filling in missing data"
      ]
    },
    {
      "cell_type": "code",
      "metadata": {
        "id": "uVk-AHt9gxx2"
      },
      "source": [
        "df.fillna(0)"
      ],
      "execution_count": null,
      "outputs": []
    },
    {
      "cell_type": "code",
      "metadata": {
        "id": "RGTQuUMjgxx4"
      },
      "source": [
        "df.fillna({1: 0.5, 3: -1})"
      ],
      "execution_count": null,
      "outputs": []
    },
    {
      "cell_type": "code",
      "metadata": {
        "id": "eLSdYPV2gxx6"
      },
      "source": [
        "# always returns a reference to the filled object\n",
        "_ = df.fillna(0, inplace=True)\n",
        "df"
      ],
      "execution_count": null,
      "outputs": []
    },
    {
      "cell_type": "code",
      "metadata": {
        "id": "_0EF3tN7gxx_"
      },
      "source": [
        "df = DataFrame(np.random.randn(6, 3))\n",
        "df.ix[2:, 1] = NA; df.ix[4:, 2] = NA\n",
        "df"
      ],
      "execution_count": null,
      "outputs": []
    },
    {
      "cell_type": "code",
      "metadata": {
        "id": "Sd4NEV3CgxyC"
      },
      "source": [
        "df.fillna(method='ffill')"
      ],
      "execution_count": null,
      "outputs": []
    },
    {
      "cell_type": "code",
      "metadata": {
        "id": "Ck14q-U2gxyE"
      },
      "source": [
        "df.fillna(method='ffill', limit=2)"
      ],
      "execution_count": null,
      "outputs": []
    },
    {
      "cell_type": "code",
      "metadata": {
        "id": "V-3hKzbPgxyG"
      },
      "source": [
        "data = Series([1., NA, 3.5, NA, 7])\n",
        "data.fillna(data.mean())"
      ],
      "execution_count": null,
      "outputs": []
    },
    {
      "cell_type": "markdown",
      "metadata": {
        "id": "80A9w-glgxyI"
      },
      "source": [
        "## Hierarchical indexing"
      ]
    },
    {
      "cell_type": "code",
      "metadata": {
        "id": "OCKOuPNwgxyK"
      },
      "source": [
        "data = Series(np.random.randn(10),\n",
        "              index=[['a', 'a', 'a', 'b', 'b', 'b', 'c', 'c', 'd', 'd'],\n",
        "                     [1, 2, 3, 1, 2, 3, 1, 2, 2, 3]])\n",
        "data"
      ],
      "execution_count": null,
      "outputs": []
    },
    {
      "cell_type": "code",
      "metadata": {
        "id": "8d9oGBADgxyN"
      },
      "source": [
        "data.index"
      ],
      "execution_count": null,
      "outputs": []
    },
    {
      "cell_type": "code",
      "metadata": {
        "id": "dBKV46v0gxyP"
      },
      "source": [
        "data['b']"
      ],
      "execution_count": null,
      "outputs": []
    },
    {
      "cell_type": "code",
      "metadata": {
        "id": "tCql4N6ugxyR"
      },
      "source": [
        "data['b':'c']"
      ],
      "execution_count": null,
      "outputs": []
    },
    {
      "cell_type": "code",
      "metadata": {
        "id": "1lxYOS3NgxyW"
      },
      "source": [
        "data.ix[['b', 'd']]"
      ],
      "execution_count": null,
      "outputs": []
    },
    {
      "cell_type": "code",
      "metadata": {
        "id": "x-3k9A4ogxyX"
      },
      "source": [
        "data[:, 2]"
      ],
      "execution_count": null,
      "outputs": []
    },
    {
      "cell_type": "code",
      "metadata": {
        "id": "dBkvzzsTgxyY"
      },
      "source": [
        "data.unstack()"
      ],
      "execution_count": null,
      "outputs": []
    },
    {
      "cell_type": "code",
      "metadata": {
        "id": "aSM-W2rAgxya"
      },
      "source": [
        "data.unstack().stack()"
      ],
      "execution_count": null,
      "outputs": []
    },
    {
      "cell_type": "code",
      "metadata": {
        "id": "NylElgDGgxyb"
      },
      "source": [
        "frame = DataFrame(np.arange(12).reshape((4, 3)),\n",
        "                  index=[['a', 'a', 'b', 'b'], [1, 2, 1, 2]],\n",
        "                  columns=[['Ohio', 'Ohio', 'Colorado'],\n",
        "                           ['Green', 'Red', 'Green']])\n",
        "frame"
      ],
      "execution_count": null,
      "outputs": []
    },
    {
      "cell_type": "code",
      "metadata": {
        "id": "rCU67nyfgxyc"
      },
      "source": [
        "frame.index.names = ['key1', 'key2']\n",
        "frame.columns.names = ['state', 'color']\n",
        "frame"
      ],
      "execution_count": null,
      "outputs": []
    },
    {
      "cell_type": "code",
      "metadata": {
        "id": "k7-8tX46gxyg"
      },
      "source": [
        "frame['Ohio']"
      ],
      "execution_count": null,
      "outputs": []
    },
    {
      "cell_type": "markdown",
      "metadata": {
        "id": "Ejf2Nz-0gxyh"
      },
      "source": [
        "MultiIndex.from_arrays([['Ohio', 'Ohio', 'Colorado'], ['Green', 'Red', 'Green']],\n",
        "                       names=['state', 'color'])"
      ]
    },
    {
      "cell_type": "markdown",
      "metadata": {
        "id": "Kg2hQWWMgxyh"
      },
      "source": [
        "### Reordering and sorting levels"
      ]
    },
    {
      "cell_type": "code",
      "metadata": {
        "id": "UBL3t_OBgxyh"
      },
      "source": [
        "frame.swaplevel('key1', 'key2')"
      ],
      "execution_count": null,
      "outputs": []
    },
    {
      "cell_type": "code",
      "metadata": {
        "id": "F-sQYCO8gxyi"
      },
      "source": [
        "frame.sortlevel(1)"
      ],
      "execution_count": null,
      "outputs": []
    },
    {
      "cell_type": "code",
      "metadata": {
        "id": "sDExtlbhgxyj"
      },
      "source": [
        "frame.swaplevel(0, 1).sortlevel(0)"
      ],
      "execution_count": null,
      "outputs": []
    },
    {
      "cell_type": "markdown",
      "metadata": {
        "id": "aDsVZtp1gxyk"
      },
      "source": [
        "### Summary statistics by level"
      ]
    },
    {
      "cell_type": "code",
      "metadata": {
        "id": "Gd3k0TVrgxyl"
      },
      "source": [
        "frame.sum(level='key2')"
      ],
      "execution_count": null,
      "outputs": []
    },
    {
      "cell_type": "code",
      "metadata": {
        "id": "gD_YgDeHgxyo"
      },
      "source": [
        "frame.sum(level='color', axis=1)"
      ],
      "execution_count": null,
      "outputs": []
    },
    {
      "cell_type": "markdown",
      "metadata": {
        "id": "eO97Sa1cgxyp"
      },
      "source": [
        "### Using a DataFrame's columns"
      ]
    },
    {
      "cell_type": "code",
      "metadata": {
        "id": "YxAYjudPgxyq"
      },
      "source": [
        "frame = DataFrame({'a': range(7), 'b': range(7, 0, -1),\n",
        "                   'c': ['one', 'one', 'one', 'two', 'two', 'two', 'two'],\n",
        "                   'd': [0, 1, 2, 0, 1, 2, 3]})\n",
        "frame"
      ],
      "execution_count": null,
      "outputs": []
    },
    {
      "cell_type": "code",
      "metadata": {
        "id": "dkFbcmkcgxyr"
      },
      "source": [
        "frame2 = frame.set_index(['c', 'd'])\n",
        "frame2"
      ],
      "execution_count": null,
      "outputs": []
    },
    {
      "cell_type": "code",
      "metadata": {
        "id": "CuWHxe0Ngxys"
      },
      "source": [
        "frame.set_index(['c', 'd'], drop=False)"
      ],
      "execution_count": null,
      "outputs": []
    },
    {
      "cell_type": "code",
      "metadata": {
        "id": "Um5R1QLvgxyu"
      },
      "source": [
        "frame2.reset_index()"
      ],
      "execution_count": null,
      "outputs": []
    },
    {
      "cell_type": "markdown",
      "metadata": {
        "id": "yRRQpSD0gxyv"
      },
      "source": [
        "## Other pandas topics"
      ]
    },
    {
      "cell_type": "markdown",
      "metadata": {
        "id": "f2DR3VbPgxyv"
      },
      "source": [
        "### Integer indexing"
      ]
    },
    {
      "cell_type": "code",
      "metadata": {
        "id": "3ifDqL71gxyv"
      },
      "source": [
        "ser = Series(np.arange(3.))\n",
        "ser.iloc[-1]"
      ],
      "execution_count": null,
      "outputs": []
    },
    {
      "cell_type": "code",
      "metadata": {
        "id": "jNZ6v2V4gxyw"
      },
      "source": [
        "ser"
      ],
      "execution_count": null,
      "outputs": []
    },
    {
      "cell_type": "code",
      "metadata": {
        "id": "vycHW-mRgxyx"
      },
      "source": [
        "ser2 = Series(np.arange(3.), index=['a', 'b', 'c'])\n",
        "ser2[-1]"
      ],
      "execution_count": null,
      "outputs": []
    },
    {
      "cell_type": "code",
      "metadata": {
        "id": "bb7Mg_M5gxyy"
      },
      "source": [
        "ser.ix[:1]"
      ],
      "execution_count": null,
      "outputs": []
    },
    {
      "cell_type": "code",
      "metadata": {
        "id": "N8SGgEC6gxy0"
      },
      "source": [
        "ser3 = Series(range(3), index=[-5, 1, 3])\n",
        "ser3.iloc[2]"
      ],
      "execution_count": null,
      "outputs": []
    },
    {
      "cell_type": "code",
      "metadata": {
        "id": "JFxuLZPdgxy2"
      },
      "source": [
        "frame = DataFrame(np.arange(6).reshape((3, 2)), index=[2, 0, 1])\n",
        "frame.iloc[0]"
      ],
      "execution_count": null,
      "outputs": []
    },
    {
      "cell_type": "markdown",
      "metadata": {
        "id": "TDL--LMwgxy5"
      },
      "source": [
        "### Panel data"
      ]
    },
    {
      "cell_type": "code",
      "metadata": {
        "id": "8NO2Ye7Hgxy5"
      },
      "source": [
        "import pandas.io.data as web\n",
        "\n",
        "pdata = pd.Panel(dict((stk, web.get_data_yahoo(stk))\n",
        "                       for stk in ['AAPL', 'GOOG', 'MSFT', 'DELL']))"
      ],
      "execution_count": null,
      "outputs": []
    },
    {
      "cell_type": "code",
      "metadata": {
        "id": "Hs0KsgDPgxy7"
      },
      "source": [
        "pdata"
      ],
      "execution_count": null,
      "outputs": []
    },
    {
      "cell_type": "code",
      "metadata": {
        "id": "NLrSTeDIgxy8"
      },
      "source": [
        "pdata = pdata.swapaxes('items', 'minor')\n",
        "pdata['Adj Close']"
      ],
      "execution_count": null,
      "outputs": []
    },
    {
      "cell_type": "code",
      "metadata": {
        "id": "lIsUS5W-gxy_"
      },
      "source": [
        "pdata.ix[:, '6/1/2012', :]"
      ],
      "execution_count": null,
      "outputs": []
    },
    {
      "cell_type": "code",
      "metadata": {
        "id": "Bx6rEEc-gxzB"
      },
      "source": [
        "pdata.ix['Adj Close', '5/22/2012':, :]"
      ],
      "execution_count": null,
      "outputs": []
    },
    {
      "cell_type": "code",
      "metadata": {
        "id": "kFX2JIxggxzE"
      },
      "source": [
        "stacked = pdata.ix[:, '5/30/2012':, :].to_frame()\n",
        "stacked"
      ],
      "execution_count": null,
      "outputs": []
    },
    {
      "cell_type": "code",
      "metadata": {
        "id": "7r9AotdTgxzG"
      },
      "source": [
        "stacked.to_panel()"
      ],
      "execution_count": null,
      "outputs": []
    }
  ]
}